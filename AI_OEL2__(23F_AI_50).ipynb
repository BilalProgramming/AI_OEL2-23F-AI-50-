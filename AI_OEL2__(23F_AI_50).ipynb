{
  "nbformat": 4,
  "nbformat_minor": 0,
  "metadata": {
    "colab": {
      "provenance": []
    },
    "kernelspec": {
      "name": "python3",
      "display_name": "Python 3"
    },
    "language_info": {
      "name": "python"
    }
  },
  "cells": [
    {
      "cell_type": "code",
      "execution_count": 7,
      "metadata": {
        "colab": {
          "base_uri": "https://localhost:8080/"
        },
        "id": "gaDLGBsTWbMz",
        "outputId": "5f0cc65f-c97e-4d34-939d-c85573c6647a"
      },
      "outputs": [
        {
          "output_type": "stream",
          "name": "stdout",
          "text": [
            "BFS path ['A', 'B', 'D', 'G']\n",
            "Distance path: 13\n"
          ]
        }
      ],
      "source": [
        "from collections import deque\n",
        "\n",
        "graph = {\n",
        "    'A': [('B', 6), ('C', 2)],\n",
        "    'B': [('D', 5), ('E', 3)],\n",
        "    'C': [('F', 4)],\n",
        "    'D': [('G', 2)],\n",
        "    'E': [('G', 6)],\n",
        "    'F': [('G', 1)],\n",
        "    'G': []\n",
        "}\n",
        "\n",
        "def bfs(start, goal):   # start=A, goal=G\n",
        "    queue = deque()         # create empty queue\n",
        "    queue.append((start, [start], 0))  #queue=[A,[A],0] =node,path,cost\n",
        "\n",
        "    while queue:\n",
        "        node, path, cost = queue.popleft()  # node=A,path=A, cost=0\n",
        "        if node == goal:                    # A not equal to G\n",
        "            return path, cost               # A,0\n",
        "        for neighbor, weight in graph[node]:    # check neigbors-> neihbors=\n",
        "            if neighbor not in path:\n",
        "                queue.append((neighbor, path + [neighbor], cost + weight))\n",
        "    return None, 0\n",
        "\n",
        "path, dist = bfs('A', 'G')\n",
        "print(\"BFS path\", path)\n",
        "print(\"Distance path:\", dist)"
      ]
    },
    {
      "cell_type": "code",
      "source": [
        "import heapq\n",
        "h = {'A': 7, 'B': 6, 'C': 4, 'D': 3, 'E': 5, 'F': 2, 'G': 0}\n",
        "\n",
        "def dfs(start, goal):\n",
        "    heap = []\n",
        "    heapq.heappush(heap, (h[start], 0, start, [start]))\n",
        "\n",
        "    while heap:\n",
        "        f, g, node, path = heapq.heappop(heap)\n",
        "        if node == goal:\n",
        "            return path, g\n",
        "        for neighbor, weight in graph[node]:\n",
        "            if neighbor not in path:\n",
        "                new_g = g + weight\n",
        "                new_f = new_g + h[neighbor]\n",
        "                heapq.heappush(heap, (new_f, new_g, neighbor, path + [neighbor]))\n",
        "    return None, 0\n",
        "\n",
        "path2, dist2 = astar('A', 'G')\n",
        "print(\"\\ Path:\", path2)\n",
        "print(\" Total distance \", dist2)"
      ],
      "metadata": {
        "colab": {
          "base_uri": "https://localhost:8080/"
        },
        "id": "8OIbmVpjYEA2",
        "outputId": "4f45214d-49a7-4e0f-c09c-63d7c0ebc77c"
      },
      "execution_count": 8,
      "outputs": [
        {
          "output_type": "stream",
          "name": "stdout",
          "text": [
            "\n",
            "A* Path: ['A', 'C', 'F', 'G']\n",
            "Distance: 7\n"
          ]
        }
      ]
    }
  ]
}